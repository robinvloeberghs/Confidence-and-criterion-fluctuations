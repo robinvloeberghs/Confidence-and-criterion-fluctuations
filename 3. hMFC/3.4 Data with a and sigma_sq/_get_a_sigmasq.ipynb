{
 "cells": [
  {
   "cell_type": "code",
   "execution_count": 1,
   "id": "7a2272c3",
   "metadata": {},
   "outputs": [],
   "source": [
    "import dill\n",
    "import pandas as pd\n",
    "import jax.numpy as jnp\n",
    "import os\n",
    "\n",
    "burn_in = 500"
   ]
  },
  {
   "cell_type": "code",
   "execution_count": 2,
   "id": "48b65bad",
   "metadata": {},
   "outputs": [],
   "source": [
    "# Needs to be path where the .csv with hMFC output are\n",
    "csv_path = 'C:/Users/u0141056/OneDrive - KU Leuven/PhD/PROJECTS/Confidence and hMFC/Analysis/3. hMFC/3.2 Data with criterion fluctuations/individual datasets'\n",
    "os.chdir(csv_path)\n",
    "\n",
    "# Path where .dil files are\n",
    "base_dilpath = 'C:/Users/u0141056/OneDrive - KU Leuven/PhD/PROJECTS/Confidence and hMFC/Analysis/3. hMFC/3.3 Dil files'\n",
    "\n",
    "# Path where new .csv files have to be saved\n",
    "new_csv_path = 'C:/Users/u0141056/OneDrive - KU Leuven/PhD/PROJECTS/Confidence and hMFC/Analysis/3. hMFC/3.4 Data with a and sigma_sq'\n",
    "\n",
    "dirs = ['Adler_2018_Expt3',\n",
    " 'Adler_2018_Expt1_taskA',\n",
    " 'Adler_2018_Expt1_taskB',\n",
    " 'Denison_2018',\n",
    " 'Recht_unpub',\n",
    " 'VanBoxtel_2019_Expt1',\n",
    " 'VanBoxtel_2019_Expt2',\n",
    " 'Law_unpub',\n",
    " 'Yeon_unpub_Exp2',\n",
    " 'Siedlecka_2021',\n",
    " 'Shekhar_2021',\n",
    " 'CalderTravis_unpub',\n",
    " 'Filevich_unpub',\n",
    " 'Maniscalco_2017_expt2',\n",
    " 'Wang_2018']"
   ]
  },
  {
   "cell_type": "code",
   "execution_count": 3,
   "id": "4f7a3bce",
   "metadata": {},
   "outputs": [
    {
     "name": "stdout",
     "output_type": "stream",
     "text": [
      "Adler_2018_Expt3\n",
      "Adler_2018_Expt1_taskA\n",
      "Adler_2018_Expt1_taskB\n",
      "Denison_2018\n",
      "Recht_unpub\n",
      "VanBoxtel_2019_Expt1\n",
      "VanBoxtel_2019_Expt2\n",
      "Law_unpub\n",
      "Yeon_unpub_Exp2\n",
      "Siedlecka_2021\n",
      "Shekhar_2021\n",
      "CalderTravis_unpub\n",
      "Filevich_unpub\n",
      "Maniscalco_2017_expt2\n",
      "Wang_2018\n"
     ]
    }
   ],
   "source": [
    "for data_dir in dirs:\n",
    "        \n",
    "    print(data_dir)\n",
    "            \n",
    "    csvpath = csv_path + '/' + data_dir + '_with_criterion_fluctuations.csv'\n",
    "        \n",
    "    data = pd.read_csv(csvpath)   \n",
    "        \n",
    "    dilpath = base_dilpath + '/' + data_dir + '.dil'\n",
    "    \n",
    "    g = globals()\n",
    "    with open(dilpath,'rb') as file:\n",
    "        list_of_variable_names = dill.load(file)  # Get the names of stored objects\n",
    "        for variable_name in list_of_variable_names:\n",
    "            g[variable_name] = dill.load(file)    # Get the objects themselves\n",
    "    \n",
    "    data_summarized = data.groupby('subj').agg({'conf': ['mean', 'std'], 'criterion_fluctuations': 'std'}).reset_index()\n",
    "\n",
    "    # Renaming columns for clarity\n",
    "    data_summarized.columns = ['subj', 'mean_conf', 'sd_conf', 'sd_criterion_fluctuations']\n",
    "    \n",
    "    # Add posterior mean of a for each subject\n",
    "    num_subjects = data_summarized.shape[0]\n",
    "    \n",
    "    mean_a = jnp.mean(posterior_samples_a[:,burn_in:,:].reshape(-1, num_subjects), axis=0)\n",
    "    data_summarized.insert(4, 'a', mean_a)\n",
    "    \n",
    "    # Add posterior mean of sigma_sq for each subject\n",
    "    mean_sigmasq = jnp.mean(posterior_samples_sigmasq[:,burn_in:,:].reshape(-1, num_subjects), axis=0)\n",
    "    data_summarized.insert(5, 'sigmasq', mean_sigmasq)\n",
    "   \n",
    "    # Add posterior mean of mu_x for each subject\n",
    "    mean_mu_x = jnp.mean(posterior_samples_mu_x[:,burn_in:,:].reshape(-1, num_subjects), axis=0)\n",
    "    data_summarized.insert(6, 'mu_x', mean_mu_x)\n",
    "    \n",
    "    # Add name of study\n",
    "    data_summarized.insert(7, 'study', data_dir)\n",
    "    \n",
    "    # Save data\n",
    "    data_summarized.to_csv(new_csv_path + \"/\" + data_dir + '_with_a_sigmasq.csv')\n",
    "    \n",
    "    # delete other vars\n",
    "    variables_to_keep = ['dirs', 'dilpath', 'new_csv_path', 'variables_to_keep', 'csv_path']\n",
    "\n",
    "    # Get a dictionary of local variables\n",
    "    local_vars = locals()\n",
    "    \n",
    "    # Create a new dictionary with only the variables to keep\n",
    "    new_vars = {key: value for key, value in local_vars.items() if key in variables_to_keep or key.startswith('__')}\n",
    "    \n",
    "    # Update the local namespace with the new dictionary\n",
    "    local_vars.update(new_vars)\n",
    "\n"
   ]
  }
 ],
 "metadata": {
  "kernelspec": {
   "display_name": "hmfc",
   "language": "python",
   "name": "python3"
  },
  "language_info": {
   "codemirror_mode": {
    "name": "ipython",
    "version": 3
   },
   "file_extension": ".py",
   "mimetype": "text/x-python",
   "name": "python",
   "nbconvert_exporter": "python",
   "pygments_lexer": "ipython3",
   "version": "3.10.16"
  }
 },
 "nbformat": 4,
 "nbformat_minor": 5
}
